{
 "cells": [
  {
   "cell_type": "markdown",
   "metadata": {},
   "source": [
    "# CMU Machine Learning with Large Datasets\n",
    "## Homework 4 - Machine Learning at Scale: Part A"
   ]
  },
  {
   "cell_type": "markdown",
   "metadata": {},
   "source": [
    "Before starting with this notebook, make sure you have already completed the data conversion step on AWS.\n",
    "\n",
    "Note that we will not be autograding this notebook because of the open-ended nature of it (although you will have to submit this notebook). To make grading easier and to learn about your thought process, throughout the notebook, we include questions you have to anwswer in your writeup. We have indicated locations in the notebook corresponding to these questions with a ✰ symbol.\n",
    "\n",
    "### 0. Start a Spark Session and Install Libraries\n",
    "\n",
    "As a first step, you should \n",
    "\n",
    "- start a Spark session on your cluster, and \n",
    "\n",
    "- check how many executor instances you have and whether that matches your configuration"
   ]
  },
  {
   "cell_type": "code",
   "execution_count": 1,
   "metadata": {},
   "outputs": [
    {
     "name": "stdout",
     "output_type": "stream",
     "text": [
      "Starting Spark application\n"
     ]
    },
    {
     "data": {
      "text/html": [
       "<table>\n",
       "<tr><th>ID</th><th>YARN Application ID</th><th>Kind</th><th>State</th><th>Spark UI</th><th>Driver log</th><th>Current session?</th></tr><tr><td>4</td><td>application_1616608229804_0005</td><td>pyspark</td><td>idle</td><td><a target=\"_blank\" href=\"http://ip-172-31-39-74.ec2.internal:20888/proxy/application_1616608229804_0005/\">Link</a></td><td><a target=\"_blank\" href=\"http://ip-172-31-37-165.ec2.internal:8042/node/containerlogs/container_1616608229804_0005_01_000001/livy\">Link</a></td><td>✔</td></tr></table>"
      ],
      "text/plain": [
       "<IPython.core.display.HTML object>"
      ]
     },
     "metadata": {},
     "output_type": "display_data"
    },
    {
     "data": {
      "application/vnd.jupyter.widget-view+json": {
       "model_id": "",
       "version_major": 2,
       "version_minor": 0
      },
      "text/plain": [
       "FloatProgress(value=0.0, bar_style='info', description='Progress:', layout=Layout(height='25px', width='50%'),…"
      ]
     },
     "metadata": {},
     "output_type": "display_data"
    },
    {
     "name": "stdout",
     "output_type": "stream",
     "text": [
      "SparkSession available as 'spark'.\n"
     ]
    },
    {
     "data": {
      "application/vnd.jupyter.widget-view+json": {
       "model_id": "",
       "version_major": 2,
       "version_minor": 0
      },
      "text/plain": [
       "FloatProgress(value=0.0, bar_style='info', description='Progress:', layout=Layout(height='25px', width='50%'),…"
      ]
     },
     "metadata": {},
     "output_type": "display_data"
    }
   ],
   "source": [
    "# YOUR CODE HERE\n",
    "spark\n",
    "sc = spark.sparkContext\n",
    "# YOUR CODE HERE"
   ]
  },
  {
   "cell_type": "markdown",
   "metadata": {},
   "source": [
    "Throughout this assignment, you will be generating plots. `Matplotlib` and other useful Python libraries do not come pre-installed on the cluster. Therefore, you will have to ssh into your master node (think about why it should be the master) using your keypair created earlier and install `matplotlib`. You might have to do this later again for other libraries you use.\n",
    "\n",
    "Run the cell below to ensure you installation was successful. If an error occurs, you might want to double check your installation."
   ]
  },
  {
   "cell_type": "code",
   "execution_count": 2,
   "metadata": {},
   "outputs": [
    {
     "data": {
      "application/vnd.jupyter.widget-view+json": {
       "model_id": "",
       "version_major": 2,
       "version_minor": 0
      },
      "text/plain": [
       "FloatProgress(value=0.0, bar_style='info', description='Progress:', layout=Layout(height='25px', width='50%'),…"
      ]
     },
     "metadata": {},
     "output_type": "display_data"
    }
   ],
   "source": [
    "import matplotlib.pyplot as plt"
   ]
  },
  {
   "cell_type": "markdown",
   "metadata": {},
   "source": [
    "### 1. Data Loading and Preparation\n",
    "\n",
    "Earlier, we have extracted relevant features from and converted format of the full raw Million Song Dataset. We now want to load our converted dataset from the S3 Storage.\n",
    "\n",
    "Use something like this: \n",
    "\n",
    "```\n",
    "df = spark.read.format(\"csv\")\n",
    "        .option(\"header\", \"false\")\n",
    "        .option(\"inferSchema\", \"true\")\n",
    "        .load(\"s3://<bucket_name>/<path>/<file_name>.csv\")\n",
    "```\n",
    "\n",
    "Note that although you can load all chunks of the dataset using `*`, we recommend you only load in a subset while developing so that processing takes shorter time when you are just verifying your ideas."
   ]
  },
  {
   "cell_type": "code",
   "execution_count": 17,
   "metadata": {},
   "outputs": [
    {
     "data": {
      "application/vnd.jupyter.widget-view+json": {
       "model_id": "",
       "version_major": 2,
       "version_minor": 0
      },
      "text/plain": [
       "FloatProgress(value=0.0, bar_style='info', description='Progress:', layout=Layout(height='25px', width='50%'),…"
      ]
     },
     "metadata": {},
     "output_type": "display_data"
    }
   ],
   "source": [
    "# YOUR CODE HERE\n",
    "df = spark.read.format(\"csv\").option(\"header\", \"false\").option(\"inferSchema\", \"true\").option(\"escape\", \"\\\"\").load(\"s3://10605hw4/*.csv\")\n",
    "# YOUR CODE HERE"
   ]
  },
  {
   "cell_type": "markdown",
   "metadata": {},
   "source": [
    "Now if we inspect the `df` we just created by running the below cell:"
   ]
  },
  {
   "cell_type": "code",
   "execution_count": 18,
   "metadata": {},
   "outputs": [
    {
     "data": {
      "application/vnd.jupyter.widget-view+json": {
       "model_id": "",
       "version_major": 2,
       "version_minor": 0
      },
      "text/plain": [
       "FloatProgress(value=0.0, bar_style='info', description='Progress:', layout=Layout(height='25px', width='50%'),…"
      ]
     },
     "metadata": {},
     "output_type": "display_data"
    },
    {
     "name": "stdout",
     "output_type": "stream",
     "text": [
      "root\n",
      " |-- _c0: string (nullable = true)\n",
      " |-- _c1: string (nullable = true)\n",
      " |-- _c2: string (nullable = true)\n",
      " |-- _c3: string (nullable = true)\n",
      " |-- _c4: string (nullable = true)\n",
      " |-- _c5: string (nullable = true)\n",
      " |-- _c6: string (nullable = true)\n",
      " |-- _c7: string (nullable = true)\n",
      " |-- _c8: string (nullable = true)\n",
      " |-- _c9: string (nullable = true)\n",
      " |-- _c10: string (nullable = true)\n",
      " |-- _c11: string (nullable = true)\n",
      " |-- _c12: string (nullable = true)\n",
      " |-- _c13: string (nullable = true)\n",
      " |-- _c14: string (nullable = true)\n",
      " |-- _c15: string (nullable = true)\n",
      " |-- _c16: string (nullable = true)\n",
      " |-- _c17: string (nullable = true)\n",
      " |-- _c18: string (nullable = true)\n",
      " |-- _c19: string (nullable = true)\n",
      " |-- _c20: string (nullable = true)\n",
      " |-- _c21: string (nullable = true)\n",
      " |-- _c22: string (nullable = true)\n",
      " |-- _c23: string (nullable = true)\n",
      " |-- _c24: string (nullable = true)\n",
      " |-- _c25: string (nullable = true)"
     ]
    }
   ],
   "source": [
    "df.printSchema()"
   ]
  },
  {
   "cell_type": "markdown",
   "metadata": {},
   "source": [
    "We see a few problems:\n",
    "\n",
    "- Because we did not include headers in the CSV files, Spark does not know the name of the features, and hence the \"_c0\", \"_c1\", ... that we see\n",
    "- Although we set `inferSchema=True` when loading data, all array types were still interpreted as plain strings.\n",
    "\n",
    "Let's first recover all the names of the features. You could reuse the feature name array you used in your `million_song_reader.py` from the conversion step."
   ]
  },
  {
   "cell_type": "code",
   "execution_count": 19,
   "metadata": {
    "scrolled": true
   },
   "outputs": [
    {
     "data": {
      "application/vnd.jupyter.widget-view+json": {
       "model_id": "",
       "version_major": 2,
       "version_minor": 0
      },
      "text/plain": [
       "FloatProgress(value=0.0, bar_style='info', description='Progress:', layout=Layout(height='25px', width='50%'),…"
      ]
     },
     "metadata": {},
     "output_type": "display_data"
    }
   ],
   "source": [
    "# YOUR CODE HERE\n",
    "metadata = [\n",
    "        'artist_familiarity',  # metadata/songs\n",
    "        'artist_hotttnesss',  # metadata/songs\n",
    "        'artist_id',  # metadata/songs\n",
    "        'artist_latitude',  # metadata/songs\n",
    "        'artist_location',  # metadata/songs\n",
    "        'artist_longitude',  # metadata/songs\n",
    "        'artist_name',  # metadata/songs\n",
    "        'title',  # metadata/songs\n",
    "        'song_hotttnesss',# metadata/songs\n",
    "        'artist_terms',  # metadata\n",
    "        'artist_terms_freq',  # metadata\n",
    "        'artist_terms_weight',  # metadata\n",
    "        'danceability',  # analysis/songs\n",
    "        'duration',  # analysis/songs\n",
    "        'end_of_fade_in',  # analysis/songs\n",
    "        'energy',  # analysis/songs\n",
    "        'key',  # analysis/songs\n",
    "        'key_confidence',  # analysis/songs\n",
    "        'loudness',  # analysis/songs\n",
    "        'mode',  # analysis/songs\n",
    "        'mode_confidence',  # analysis/songs\n",
    "        'start_of_fade_out',  # analysis/songs\n",
    "        'tempo',  # analysis/songs\n",
    "        'time_signature',  # analysis/songs\n",
    "        'time_signature_confidence',  # analysis/songs\n",
    "        'year',  # musicbrainz/songs\n",
    "    ]\n",
    "for i,name in enumerate(metadata):\n",
    "    df = df.withColumnRenamed(f'_c{i}', name)\n",
    "# YOUR CODE HERE"
   ]
  },
  {
   "cell_type": "markdown",
   "metadata": {},
   "source": [
    "Now if we run the below cell again, we should see proper feature names being attached to the columns."
   ]
  },
  {
   "cell_type": "code",
   "execution_count": 20,
   "metadata": {},
   "outputs": [
    {
     "data": {
      "application/vnd.jupyter.widget-view+json": {
       "model_id": "",
       "version_major": 2,
       "version_minor": 0
      },
      "text/plain": [
       "FloatProgress(value=0.0, bar_style='info', description='Progress:', layout=Layout(height='25px', width='50%'),…"
      ]
     },
     "metadata": {},
     "output_type": "display_data"
    },
    {
     "name": "stdout",
     "output_type": "stream",
     "text": [
      "root\n",
      " |-- artist_familiarity: string (nullable = true)\n",
      " |-- artist_hotttnesss: string (nullable = true)\n",
      " |-- artist_id: string (nullable = true)\n",
      " |-- artist_latitude: string (nullable = true)\n",
      " |-- artist_location: string (nullable = true)\n",
      " |-- artist_longitude: string (nullable = true)\n",
      " |-- artist_name: string (nullable = true)\n",
      " |-- title: string (nullable = true)\n",
      " |-- song_hotttnesss: string (nullable = true)\n",
      " |-- artist_terms: string (nullable = true)\n",
      " |-- artist_terms_freq: string (nullable = true)\n",
      " |-- artist_terms_weight: string (nullable = true)\n",
      " |-- danceability: string (nullable = true)\n",
      " |-- duration: string (nullable = true)\n",
      " |-- end_of_fade_in: string (nullable = true)\n",
      " |-- energy: string (nullable = true)\n",
      " |-- key: string (nullable = true)\n",
      " |-- key_confidence: string (nullable = true)\n",
      " |-- loudness: string (nullable = true)\n",
      " |-- mode: string (nullable = true)\n",
      " |-- mode_confidence: string (nullable = true)\n",
      " |-- start_of_fade_out: string (nullable = true)\n",
      " |-- tempo: string (nullable = true)\n",
      " |-- time_signature: string (nullable = true)\n",
      " |-- time_signature_confidence: string (nullable = true)\n",
      " |-- year: string (nullable = true)"
     ]
    }
   ],
   "source": [
    "df.printSchema()"
   ]
  },
  {
   "cell_type": "markdown",
   "metadata": {},
   "source": [
    "Note that there are still a few features, e.g. `artist_latitude`, not being converted to the correct type. Let's do this manually and convert numeric features to `pyspark.sql.types.DoubleType` (Hint: there should be 19 of them). ✰ List the 19 numeric features in your writeup.\n",
    "\n",
    "Don't worry about array features for now."
   ]
  },
  {
   "cell_type": "code",
   "execution_count": 21,
   "metadata": {},
   "outputs": [
    {
     "data": {
      "application/vnd.jupyter.widget-view+json": {
       "model_id": "",
       "version_major": 2,
       "version_minor": 0
      },
      "text/plain": [
       "FloatProgress(value=0.0, bar_style='info', description='Progress:', layout=Layout(height='25px', width='50%'),…"
      ]
     },
     "metadata": {},
     "output_type": "display_data"
    }
   ],
   "source": [
    "from pyspark.sql.types import DoubleType, StringType\n",
    "from pyspark.sql.functions import udf\n",
    "\n",
    "# YOUR CODE HERE\n",
    "numeric_features = [\n",
    "        'artist_familiarity',  # metadata/songs\n",
    "        'artist_hotttnesss',  # metadata/songs\n",
    "#         'artist_id',  # metadata/songs\n",
    "        'artist_latitude',  # metadata/songs\n",
    "#         'artist_location',  # metadata/songs\n",
    "        'artist_longitude',  # metadata/songs\n",
    "#         'artist_name',  # metadata/songs\n",
    "#         'title',  # metadata/songs\n",
    "        'song_hotttnesss',# metadata/songs\n",
    "#         'artist_terms',  # metadata\n",
    "#         'artist_terms_freq',  # metadata # array\n",
    "#         'artist_terms_weight',  # metadata # array\n",
    "        'danceability',  # analysis/songs\n",
    "        'duration',  # analysis/songs\n",
    "        'end_of_fade_in',  # analysis/songs\n",
    "        'energy',  # analysis/songs\n",
    "        'key',  # analysis/songs\n",
    "        'key_confidence',  # analysis/songs\n",
    "        'loudness',  # analysis/songs\n",
    "        'mode',  # analysis/songs\n",
    "        'mode_confidence',  # analysis/songs\n",
    "        'start_of_fade_out',  # analysis/songs\n",
    "        'tempo',  # analysis/songs\n",
    "        'time_signature',  # analysis/songs\n",
    "        'time_signature_confidence',  # analysis/songs\n",
    "        'year',  # musicbrainz/songs\n",
    "    ]\n",
    "udf1 = udf(lambda x:x[1:-1], StringType())\n",
    "for name in numeric_features:\n",
    "    df = df.withColumn(name, udf1(name))\n",
    "    df = df.withColumn(name, df[name].cast(DoubleType()))\n",
    "# YOUR CODE HERE"
   ]
  },
  {
   "cell_type": "markdown",
   "metadata": {},
   "source": [
    "We are all set for now. Let's run the following cell to inspect everything except the arrays looks ok."
   ]
  },
  {
   "cell_type": "code",
   "execution_count": 22,
   "metadata": {},
   "outputs": [
    {
     "data": {
      "application/vnd.jupyter.widget-view+json": {
       "model_id": "",
       "version_major": 2,
       "version_minor": 0
      },
      "text/plain": [
       "FloatProgress(value=0.0, bar_style='info', description='Progress:', layout=Layout(height='25px', width='50%'),…"
      ]
     },
     "metadata": {},
     "output_type": "display_data"
    },
    {
     "name": "stdout",
     "output_type": "stream",
     "text": [
      "root\n",
      " |-- artist_familiarity: double (nullable = true)\n",
      " |-- artist_hotttnesss: double (nullable = true)\n",
      " |-- artist_id: string (nullable = true)\n",
      " |-- artist_latitude: double (nullable = true)\n",
      " |-- artist_location: string (nullable = true)\n",
      " |-- artist_longitude: double (nullable = true)\n",
      " |-- artist_name: string (nullable = true)\n",
      " |-- title: string (nullable = true)\n",
      " |-- song_hotttnesss: double (nullable = true)\n",
      " |-- artist_terms: string (nullable = true)\n",
      " |-- artist_terms_freq: string (nullable = true)\n",
      " |-- artist_terms_weight: string (nullable = true)\n",
      " |-- danceability: double (nullable = true)\n",
      " |-- duration: double (nullable = true)\n",
      " |-- end_of_fade_in: double (nullable = true)\n",
      " |-- energy: double (nullable = true)\n",
      " |-- key: double (nullable = true)\n",
      " |-- key_confidence: double (nullable = true)\n",
      " |-- loudness: double (nullable = true)\n",
      " |-- mode: double (nullable = true)\n",
      " |-- mode_confidence: double (nullable = true)\n",
      " |-- start_of_fade_out: double (nullable = true)\n",
      " |-- tempo: double (nullable = true)\n",
      " |-- time_signature: double (nullable = true)\n",
      " |-- time_signature_confidence: double (nullable = true)\n",
      " |-- year: double (nullable = true)\n",
      "\n",
      "Row(artist_familiarity=0.562028161068808, artist_hotttnesss=0.40991324306220756, artist_id=\"['ARKS8IL1187FB4D6B8']\", artist_latitude=None, artist_location=\"['']\", artist_longitude=None, artist_name=\"['Marco Bailey']\", title=\"['Spicy']\", song_hotttnesss=0.0, artist_terms=\"['hard trance', 'tech house', 'techno', 'hard house', 'trance', 'progressive trance', 'progressive house', 'electro', 'electronic', 'happy hardcore', 'gabba', 'hardstyle', 'schranz', 'tribal house', 'uk garage', 'new beat', 'belgium', 'deep house', 'minimal', 'house', 'tribal', 'hardcore', 'acid', 'spain', 'germany', 'italy', 'sweden', 'minimal techno', 'goa trance', 'club dance', 'united states', 'latin', 'ambient', 'dj', 'breakbeat', 'nederland', 'drum and bass', 'acid house', 'jumpstyle', 'hardtechno', 'techno artist', 'french', 'deep techno', 'slovenia']\", artist_terms_freq='[0.8987031903688264, 0.9023844447360804, 1.0, 0.8084293738984237, 0.9352764371178217, 0.843215373504888, 0.7966548984250886, 0.8947422411701189, 0.9645790027510459, 0.7386851145283873, 0.7386851145283873, 0.7235051754880159, 0.7235051754880159, 0.6655353915913145, 0.6655353915913145, 0.6655353915913145, 0.6653421704902157, 0.6655353915913145, 0.7056231128133008, 0.7416306308964726, 0.6023928893030568, 0.708051052029184, 0.5713168039364319, 0.5409046448550572, 0.5776757868276929, 0.5267004124096282, 0.5355351396547345, 0.4998686547151441, 0.45817285823166504, 0.4451476629387199, 0.4303591647975322, 0.5125480979497554, 0.5773964955851587, 0.44984182944522677, 0.45662146143607735, 0.4005949938165704, 0.47250563323428596, 0.3738973073936611, 0.36727229238539183, 0.36369968781303064, 0.36021201970205263, 0.4604133591428755, 0.35104744056114995, 0.33427782459856037]', artist_terms_weight='[1.0, 0.9900809287781901, 0.9782826810206364, 0.9259328097128319, 0.9247539882683261, 0.9106709683202954, 0.8891100361235205, 0.8877579685982863, 0.8875007037662018, 0.8645129795966645, 0.8645129795966645, 0.8511448646370274, 0.8511448646370274, 0.8000941500554059, 0.8000941500554059, 0.8000941500554059, 0.7785507145628937, 0.7667826671177836, 0.7526196838569258, 0.7526196577610137, 0.7444881145381563, 0.7052884048573979, 0.7052883542849324, 0.6827265322256273, 0.6693590102320377, 0.6693578409242004, 0.6505181726734751, 0.6183077019261839, 0.61748167862841, 0.6060111247885868, 0.5929877297205302, 0.5860993629356999, 0.5860992067717383, 0.5860928662479234, 0.5704972793228759, 0.5667761053988783, 0.5578462887984394, 0.543264960834423, 0.5374306842932376, 0.5342844932247732, 0.5312131009006922, 0.528124324644713, 0.5231423736608494, 0.5083743200197476]', danceability=0.0, duration=335.3073, end_of_fade_in=0.105, energy=0.0, key=1.0, key_confidence=0.744, loudness=-8.508, mode=1.0, mode_confidence=0.627, start_of_fade_out=318.131, tempo=126.006, time_signature=4.0, time_signature_confidence=0.0, year=0.0)"
     ]
    }
   ],
   "source": [
    "df.printSchema()\n",
    "df.head()"
   ]
  },
  {
   "cell_type": "markdown",
   "metadata": {},
   "source": [
    "For us to grade your checkpoint, run the following cell and ✰ include the output in your writeup.\n",
    "\n",
    "Some sanity checks based on our reference solution:\n",
    "- There should be 19 numeric features\n",
    "- There should be around 580k data records\n",
    "- `song_hotttnesss` should be a floating point number between 0 and 1, with mean around 0.36\n",
    "- `artist_name` and `title` should be human-readable text, rather than undecoded bytes\n",
    "- `artist_terms` should be a string literal of an array containing human-readable tags, rather than undecoded bytes\n",
    "- The max of `year` should be 2011 (because MSD was published in 2011)\n",
    "\n",
    "We will have some wiggle rooms in grading because everyone might have processed the data slightly differently."
   ]
  },
  {
   "cell_type": "code",
   "execution_count": 23,
   "metadata": {},
   "outputs": [
    {
     "data": {
      "application/vnd.jupyter.widget-view+json": {
       "model_id": "",
       "version_major": 2,
       "version_minor": 0
      },
      "text/plain": [
       "FloatProgress(value=0.0, bar_style='info', description='Progress:', layout=Layout(height='25px', width='50%'),…"
      ]
     },
     "metadata": {},
     "output_type": "display_data"
    },
    {
     "name": "stdout",
     "output_type": "stream",
     "text": [
      "total feature 26, numeric feature 19, string feature 7\n",
      "total 581965 records\n",
      "\n",
      "sample data record:\n",
      "  song_hotttnesss: 0.0\n",
      "  artist_hotttnesss: 0.40991324306220756\n",
      "  artist_id: ['ARKS8IL1187FB4D6B8']\n",
      "  artist_latitude: None\n",
      "  artist_name: ['Marco Bailey']\n",
      "  title: ['Spicy']\n",
      "  danceability: 0.0\n",
      "  duration: 335.3073\n",
      "  loudness: -8.508\n",
      "  year: 0.0\n",
      "  artist_terms: ['hard trance', 'tech house', 'techno', 'hard house', 'trance', 'progressive trance', 'progressive house', 'electro', 'electronic', 'happy hardcore', 'gabba', 'hardstyle', 'schranz', 'tribal house', 'uk garage', 'new beat', 'belgium', 'deep house', 'minimal', 'house', 'tribal', 'hardcore', 'acid', 'spain', 'germany', 'italy', 'sweden', 'minimal techno', 'goa trance', 'club dance', 'united states', 'latin', 'ambient', 'dj', 'breakbeat', 'nederland', 'drum and bass', 'acid house', 'jumpstyle', 'hardtechno', 'techno artist', 'french', 'deep techno', 'slovenia']\n",
      "  artist_terms_freq: [0.8987031903688264, 0.9023844447360804, 1.0, 0.8084293738984237, 0.9352764371178217, 0.843215373504888, 0.7966548984250886, 0.8947422411701189, 0.9645790027510459, 0.7386851145283873, 0.7386851145283873, 0.7235051754880159, 0.7235051754880159, 0.6655353915913145, 0.6655353915913145, 0.6655353915913145, 0.6653421704902157, 0.6655353915913145, 0.7056231128133008, 0.7416306308964726, 0.6023928893030568, 0.708051052029184, 0.5713168039364319, 0.5409046448550572, 0.5776757868276929, 0.5267004124096282, 0.5355351396547345, 0.4998686547151441, 0.45817285823166504, 0.4451476629387199, 0.4303591647975322, 0.5125480979497554, 0.5773964955851587, 0.44984182944522677, 0.45662146143607735, 0.4005949938165704, 0.47250563323428596, 0.3738973073936611, 0.36727229238539183, 0.36369968781303064, 0.36021201970205263, 0.4604133591428755, 0.35104744056114995, 0.33427782459856037]\n",
      "\n",
      "+-------+-------------------+-------------------+------------------+\n",
      "|summary|    song_hotttnesss|  artist_hotttnesss|              year|\n",
      "+-------+-------------------+-------------------+------------------+\n",
      "|  count|             581965|             581965|            581965|\n",
      "|   mean|0.35605103956148115| 0.3989411270241013|1190.3304253692233|\n",
      "| stddev|0.23444090117416458| 0.1126887362924464| 981.4745535030671|\n",
      "|    min|                0.0|                0.0|               0.0|\n",
      "|    25%|0.21508031850922793| 0.3528241940138724|               0.0|\n",
      "|    50%| 0.3775316449767025| 0.3994417218788512|            1992.0|\n",
      "|    75%| 0.5319846094668594|0.45617007577135377|            2004.0|\n",
      "|    max|                1.0| 1.0825025567261237|            2011.0|\n",
      "+-------+-------------------+-------------------+------------------+"
     ]
    }
   ],
   "source": [
    "double_cols = [t for t in df.dtypes if t[1]=='double']\n",
    "str_cols = [t for t in df.dtypes if t[1] == 'string']\n",
    "print('total feature {}, numeric feature {}, string feature {}'.format(len(df.dtypes),len(double_cols),len(str_cols)))\n",
    "print('total {} records'.format(df.count()))\n",
    "print('\\nsample data record:')\n",
    "head = df.head()\n",
    "features = ['song_hotttnesss', 'artist_hotttnesss', 'artist_id', 'artist_latitude', 'artist_name',\n",
    "           'title', 'danceability', 'duration', 'loudness', 'year', 'artist_terms', 'artist_terms_freq']\n",
    "for f in features:\n",
    "    print(f'  {f}: {head[f]}')\n",
    "print()\n",
    "df.select('song_hotttnesss', 'artist_hotttnesss', 'year').summary().show()"
   ]
  },
  {
   "cell_type": "markdown",
   "metadata": {},
   "source": [
    "## End of Part A"
   ]
  }
 ],
 "metadata": {
  "kernelspec": {
   "display_name": "Python 3",
   "language": "python",
   "name": "python3"
  },
  "language_info": {
   "codemirror_mode": {
    "name": "ipython",
    "version": 3
   },
   "file_extension": ".py",
   "mimetype": "text/x-python",
   "name": "python",
   "nbconvert_exporter": "python",
   "pygments_lexer": "ipython3",
   "version": "3.8.5"
  }
 },
 "nbformat": 4,
 "nbformat_minor": 4
}

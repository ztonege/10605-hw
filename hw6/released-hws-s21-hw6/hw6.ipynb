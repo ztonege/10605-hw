{
  "nbformat": 4,
  "nbformat_minor": 0,
  "metadata": {
    "kernelspec": {
      "display_name": "Python 3",
      "language": "python",
      "name": "python3"
    },
    "language_info": {
      "codemirror_mode": {
        "name": "ipython",
        "version": 3
      },
      "file_extension": ".py",
      "mimetype": "text/x-python",
      "name": "python",
      "nbconvert_exporter": "python",
      "pygments_lexer": "ipython3",
      "version": "3.7.6"
    },
    "colab": {
      "name": "hw6.ipynb",
      "provenance": [],
      "toc_visible": true
    },
    "accelerator": "GPU"
  },
  "cells": [
    {
      "cell_type": "markdown",
      "metadata": {
        "id": "y-eC-sb34T9w"
      },
      "source": [
        "## Accelerate Inference: Neural Network Pruning"
      ]
    },
    {
      "cell_type": "code",
      "metadata": {
        "id": "L47XBZWm4T9x",
        "colab": {
          "base_uri": "https://localhost:8080/",
          "height": 0
        },
        "outputId": "63e264ec-d44e-4e7c-95f6-7b6fc6c8cc3a"
      },
      "source": [
        "import os\n",
        "import numpy as np\n",
        "import cv2\n",
        "import matplotlib.pyplot as plt\n",
        "import pickle\n",
        "\n",
        "import tensorflow as tf\n",
        "from tensorflow import keras\n",
        "from tensorflow.keras import datasets, layers, models, regularizers\n",
        "from tensorflow.keras.layers import *\n",
        "\n",
        "print(tf.version.VERSION)"
      ],
      "execution_count": 2,
      "outputs": [
        {
          "output_type": "stream",
          "text": [
            "2.4.1\n"
          ],
          "name": "stdout"
        }
      ]
    },
    {
      "cell_type": "code",
      "metadata": {
        "id": "V1FQTVeAuNiU",
        "colab": {
          "base_uri": "https://localhost:8080/",
          "height": 0
        },
        "outputId": "d0723cb8-3827-4ee4-9ae9-74bef5e13af8"
      },
      "source": [
        "# untar\n",
        "!tar -xvzf dataset.tar.gz\n",
        "# load train\n",
        "train_images = pickle.load(open('train_images.pkl', 'rb'))\n",
        "train_labels = pickle.load(open('train_labels.pkl', 'rb'))\n",
        "# load val\n",
        "val_images = pickle.load(open('val_images.pkl', 'rb'))\n",
        "val_labels = pickle.load(open('val_labels.pkl', 'rb'))"
      ],
      "execution_count": 4,
      "outputs": [
        {
          "output_type": "stream",
          "text": [
            "train_images.pkl\n",
            "train_labels.pkl\n",
            "val_images.pkl\n",
            "val_labels.pkl\n"
          ],
          "name": "stdout"
        }
      ]
    },
    {
      "cell_type": "code",
      "metadata": {
        "id": "KE9JuZDG4T94"
      },
      "source": [
        "# Define the neural network architecture (don't change this)\n",
        "\n",
        "model = models.Sequential()\n",
        "model.add(Conv2D(32, (3, 3), padding='same', kernel_regularizer=regularizers.l2(1e-5), input_shape=(25,25,3)))\n",
        "model.add(Activation('relu'))\n",
        "model.add(Conv2D(32, (3, 3), kernel_regularizer=regularizers.l2(1e-5)))\n",
        "model.add(Activation('relu'))\n",
        "model.add(MaxPooling2D(pool_size=(2, 2)))\n",
        "model.add(Dropout(0.25))\n",
        "model.add(Conv2D(64, (3, 3), padding='same', kernel_regularizer=regularizers.l2(1e-5)))\n",
        "model.add(Activation('relu'))\n",
        "model.add(Conv2D(64, (3, 3), kernel_regularizer=regularizers.l2(1e-5)))\n",
        "model.add(Activation('relu'))\n",
        "model.add(MaxPooling2D(pool_size=(2, 2)))\n",
        "model.add(Dropout(0.25))\n",
        "model.add(Flatten())\n",
        "model.add(Dense(512))\n",
        "model.add(Activation('relu'))\n",
        "model.add(Dropout(0.5))\n",
        "model.add(Dense(5))\n",
        "model.add(Activation('softmax'))"
      ],
      "execution_count": 64,
      "outputs": []
    },
    {
      "cell_type": "code",
      "metadata": {
        "id": "JTzcSoYl4T97",
        "colab": {
          "base_uri": "https://localhost:8080/",
          "height": 0
        },
        "outputId": "153741be-ecf3-4d45-c2ed-e6cc89779a54"
      },
      "source": [
        "print(model.summary())"
      ],
      "execution_count": 65,
      "outputs": [
        {
          "output_type": "stream",
          "text": [
            "Model: \"sequential_4\"\n",
            "_________________________________________________________________\n",
            "Layer (type)                 Output Shape              Param #   \n",
            "=================================================================\n",
            "conv2d_16 (Conv2D)           (None, 25, 25, 32)        896       \n",
            "_________________________________________________________________\n",
            "activation_24 (Activation)   (None, 25, 25, 32)        0         \n",
            "_________________________________________________________________\n",
            "conv2d_17 (Conv2D)           (None, 23, 23, 32)        9248      \n",
            "_________________________________________________________________\n",
            "activation_25 (Activation)   (None, 23, 23, 32)        0         \n",
            "_________________________________________________________________\n",
            "max_pooling2d_8 (MaxPooling2 (None, 11, 11, 32)        0         \n",
            "_________________________________________________________________\n",
            "dropout_12 (Dropout)         (None, 11, 11, 32)        0         \n",
            "_________________________________________________________________\n",
            "conv2d_18 (Conv2D)           (None, 11, 11, 64)        18496     \n",
            "_________________________________________________________________\n",
            "activation_26 (Activation)   (None, 11, 11, 64)        0         \n",
            "_________________________________________________________________\n",
            "conv2d_19 (Conv2D)           (None, 9, 9, 64)          36928     \n",
            "_________________________________________________________________\n",
            "activation_27 (Activation)   (None, 9, 9, 64)          0         \n",
            "_________________________________________________________________\n",
            "max_pooling2d_9 (MaxPooling2 (None, 4, 4, 64)          0         \n",
            "_________________________________________________________________\n",
            "dropout_13 (Dropout)         (None, 4, 4, 64)          0         \n",
            "_________________________________________________________________\n",
            "flatten_4 (Flatten)          (None, 1024)              0         \n",
            "_________________________________________________________________\n",
            "dense_8 (Dense)              (None, 512)               524800    \n",
            "_________________________________________________________________\n",
            "activation_28 (Activation)   (None, 512)               0         \n",
            "_________________________________________________________________\n",
            "dropout_14 (Dropout)         (None, 512)               0         \n",
            "_________________________________________________________________\n",
            "dense_9 (Dense)              (None, 5)                 2565      \n",
            "_________________________________________________________________\n",
            "activation_29 (Activation)   (None, 5)                 0         \n",
            "=================================================================\n",
            "Total params: 592,933\n",
            "Trainable params: 592,933\n",
            "Non-trainable params: 0\n",
            "_________________________________________________________________\n",
            "None\n"
          ],
          "name": "stdout"
        }
      ]
    },
    {
      "cell_type": "code",
      "metadata": {
        "id": "G9Nk_MAPqZPt",
        "colab": {
          "base_uri": "https://localhost:8080/",
          "height": 0
        },
        "outputId": "e8553b28-9a32-4093-f335-7d9b57055fb6"
      },
      "source": [
        "# you can use the default hyper-parameters for training, \n",
        "# and val accuracy ~59% after 25 epochs and > 63% after 50 epochs\n",
        "\n",
        "model.compile(optimizer=keras.optimizers.Adam(learning_rate=0.0001, decay=1e-6),\n",
        "              loss=tf.keras.losses.SparseCategoricalCrossentropy(from_logits=True),\n",
        "              metrics=['accuracy'])\n",
        "\n",
        "history = model.fit(train_images, train_labels, batch_size=32, epochs=50, \n",
        "                    validation_data=(val_images, val_labels)) # train for 50 epochs, with batch size 32"
      ],
      "execution_count": 66,
      "outputs": [
        {
          "output_type": "stream",
          "text": [
            "Epoch 1/50\n",
            "703/703 [==============================] - 4s 5ms/step - loss: 1.5806 - accuracy: 0.2593 - val_loss: 1.3823 - val_accuracy: 0.4028\n",
            "Epoch 2/50\n",
            "703/703 [==============================] - 3s 5ms/step - loss: 1.3890 - accuracy: 0.4025 - val_loss: 1.2784 - val_accuracy: 0.4483\n",
            "Epoch 3/50\n",
            "703/703 [==============================] - 3s 5ms/step - loss: 1.2961 - accuracy: 0.4537 - val_loss: 1.2148 - val_accuracy: 0.4947\n",
            "Epoch 4/50\n",
            "703/703 [==============================] - 3s 4ms/step - loss: 1.2390 - accuracy: 0.4833 - val_loss: 1.1695 - val_accuracy: 0.4998\n",
            "Epoch 5/50\n",
            "703/703 [==============================] - 3s 5ms/step - loss: 1.1925 - accuracy: 0.5030 - val_loss: 1.1507 - val_accuracy: 0.5220\n",
            "Epoch 6/50\n",
            "703/703 [==============================] - 3s 5ms/step - loss: 1.1692 - accuracy: 0.5201 - val_loss: 1.1025 - val_accuracy: 0.5509\n",
            "Epoch 7/50\n",
            "703/703 [==============================] - 3s 5ms/step - loss: 1.1293 - accuracy: 0.5419 - val_loss: 1.0656 - val_accuracy: 0.5659\n",
            "Epoch 8/50\n",
            "703/703 [==============================] - 3s 5ms/step - loss: 1.1152 - accuracy: 0.5529 - val_loss: 1.0463 - val_accuracy: 0.5739\n",
            "Epoch 9/50\n",
            "703/703 [==============================] - 3s 4ms/step - loss: 1.0867 - accuracy: 0.5606 - val_loss: 1.0481 - val_accuracy: 0.5750\n",
            "Epoch 10/50\n",
            "703/703 [==============================] - 3s 4ms/step - loss: 1.0610 - accuracy: 0.5790 - val_loss: 0.9949 - val_accuracy: 0.5972\n",
            "Epoch 11/50\n",
            "703/703 [==============================] - 3s 4ms/step - loss: 1.0328 - accuracy: 0.5920 - val_loss: 0.9856 - val_accuracy: 0.6044\n",
            "Epoch 12/50\n",
            "703/703 [==============================] - 3s 5ms/step - loss: 1.0076 - accuracy: 0.6044 - val_loss: 0.9701 - val_accuracy: 0.6024\n",
            "Epoch 13/50\n",
            "703/703 [==============================] - 3s 5ms/step - loss: 1.0011 - accuracy: 0.6072 - val_loss: 0.9763 - val_accuracy: 0.6055\n",
            "Epoch 14/50\n",
            "703/703 [==============================] - 3s 4ms/step - loss: 0.9856 - accuracy: 0.6099 - val_loss: 0.9840 - val_accuracy: 0.6040\n",
            "Epoch 15/50\n",
            "703/703 [==============================] - 3s 5ms/step - loss: 0.9677 - accuracy: 0.6211 - val_loss: 0.9623 - val_accuracy: 0.6143\n",
            "Epoch 16/50\n",
            "703/703 [==============================] - 3s 4ms/step - loss: 0.9580 - accuracy: 0.6258 - val_loss: 0.9272 - val_accuracy: 0.6321\n",
            "Epoch 17/50\n",
            "703/703 [==============================] - 3s 4ms/step - loss: 0.9295 - accuracy: 0.6425 - val_loss: 0.9567 - val_accuracy: 0.6186\n",
            "Epoch 18/50\n",
            "703/703 [==============================] - 3s 4ms/step - loss: 0.9237 - accuracy: 0.6421 - val_loss: 0.8829 - val_accuracy: 0.6527\n",
            "Epoch 19/50\n",
            "703/703 [==============================] - 3s 4ms/step - loss: 0.9117 - accuracy: 0.6435 - val_loss: 0.8904 - val_accuracy: 0.6451\n",
            "Epoch 20/50\n",
            "703/703 [==============================] - 3s 4ms/step - loss: 0.9038 - accuracy: 0.6491 - val_loss: 0.8860 - val_accuracy: 0.6467\n",
            "Epoch 21/50\n",
            "703/703 [==============================] - 3s 4ms/step - loss: 0.8800 - accuracy: 0.6583 - val_loss: 0.8850 - val_accuracy: 0.6451\n",
            "Epoch 22/50\n",
            "703/703 [==============================] - 3s 5ms/step - loss: 0.8678 - accuracy: 0.6631 - val_loss: 0.8647 - val_accuracy: 0.6479\n",
            "Epoch 23/50\n",
            "703/703 [==============================] - 3s 5ms/step - loss: 0.8599 - accuracy: 0.6680 - val_loss: 0.8505 - val_accuracy: 0.6681\n",
            "Epoch 24/50\n",
            "703/703 [==============================] - 3s 5ms/step - loss: 0.8461 - accuracy: 0.6746 - val_loss: 0.8666 - val_accuracy: 0.6558\n",
            "Epoch 25/50\n",
            "703/703 [==============================] - 3s 4ms/step - loss: 0.8460 - accuracy: 0.6735 - val_loss: 0.8427 - val_accuracy: 0.6681\n",
            "Epoch 26/50\n",
            "703/703 [==============================] - 3s 5ms/step - loss: 0.8239 - accuracy: 0.6823 - val_loss: 0.8417 - val_accuracy: 0.6634\n",
            "Epoch 27/50\n",
            "703/703 [==============================] - 3s 4ms/step - loss: 0.8148 - accuracy: 0.6876 - val_loss: 0.8583 - val_accuracy: 0.6618\n",
            "Epoch 28/50\n",
            "703/703 [==============================] - 3s 4ms/step - loss: 0.8110 - accuracy: 0.6898 - val_loss: 0.8023 - val_accuracy: 0.6780\n",
            "Epoch 29/50\n",
            "703/703 [==============================] - 3s 5ms/step - loss: 0.7971 - accuracy: 0.6985 - val_loss: 0.8137 - val_accuracy: 0.6836\n",
            "Epoch 30/50\n",
            "703/703 [==============================] - 3s 4ms/step - loss: 0.7748 - accuracy: 0.7061 - val_loss: 0.8139 - val_accuracy: 0.6816\n",
            "Epoch 31/50\n",
            "703/703 [==============================] - 3s 4ms/step - loss: 0.7785 - accuracy: 0.7018 - val_loss: 0.8007 - val_accuracy: 0.6907\n",
            "Epoch 32/50\n",
            "703/703 [==============================] - 3s 5ms/step - loss: 0.7617 - accuracy: 0.7104 - val_loss: 0.7779 - val_accuracy: 0.6954\n",
            "Epoch 33/50\n",
            "703/703 [==============================] - 3s 5ms/step - loss: 0.7573 - accuracy: 0.7075 - val_loss: 0.8030 - val_accuracy: 0.6836\n",
            "Epoch 34/50\n",
            "703/703 [==============================] - 3s 5ms/step - loss: 0.7489 - accuracy: 0.7131 - val_loss: 0.7976 - val_accuracy: 0.6851\n",
            "Epoch 35/50\n",
            "703/703 [==============================] - 3s 5ms/step - loss: 0.7465 - accuracy: 0.7173 - val_loss: 0.7539 - val_accuracy: 0.7129\n",
            "Epoch 36/50\n",
            "703/703 [==============================] - 3s 5ms/step - loss: 0.7371 - accuracy: 0.7196 - val_loss: 0.7784 - val_accuracy: 0.6978\n",
            "Epoch 37/50\n",
            "703/703 [==============================] - 3s 5ms/step - loss: 0.7321 - accuracy: 0.7250 - val_loss: 0.7589 - val_accuracy: 0.7105\n",
            "Epoch 38/50\n",
            "703/703 [==============================] - 3s 5ms/step - loss: 0.7076 - accuracy: 0.7328 - val_loss: 0.7488 - val_accuracy: 0.7101\n",
            "Epoch 39/50\n",
            "703/703 [==============================] - 3s 4ms/step - loss: 0.6966 - accuracy: 0.7329 - val_loss: 0.7442 - val_accuracy: 0.7152\n",
            "Epoch 40/50\n",
            "703/703 [==============================] - 3s 5ms/step - loss: 0.6907 - accuracy: 0.7399 - val_loss: 0.7421 - val_accuracy: 0.7156\n",
            "Epoch 41/50\n",
            "703/703 [==============================] - 3s 5ms/step - loss: 0.7015 - accuracy: 0.7330 - val_loss: 0.7469 - val_accuracy: 0.7061\n",
            "Epoch 42/50\n",
            "703/703 [==============================] - 3s 5ms/step - loss: 0.6850 - accuracy: 0.7397 - val_loss: 0.7566 - val_accuracy: 0.7152\n",
            "Epoch 43/50\n",
            "703/703 [==============================] - 3s 5ms/step - loss: 0.6652 - accuracy: 0.7503 - val_loss: 0.7318 - val_accuracy: 0.7192\n",
            "Epoch 44/50\n",
            "703/703 [==============================] - 3s 5ms/step - loss: 0.6726 - accuracy: 0.7438 - val_loss: 0.7385 - val_accuracy: 0.7160\n",
            "Epoch 45/50\n",
            "703/703 [==============================] - 3s 5ms/step - loss: 0.6699 - accuracy: 0.7466 - val_loss: 0.7367 - val_accuracy: 0.7208\n",
            "Epoch 46/50\n",
            "703/703 [==============================] - 3s 5ms/step - loss: 0.6668 - accuracy: 0.7486 - val_loss: 0.7464 - val_accuracy: 0.7164\n",
            "Epoch 47/50\n",
            "703/703 [==============================] - 3s 5ms/step - loss: 0.6516 - accuracy: 0.7531 - val_loss: 0.7243 - val_accuracy: 0.7311\n",
            "Epoch 48/50\n",
            "703/703 [==============================] - 3s 5ms/step - loss: 0.6382 - accuracy: 0.7594 - val_loss: 0.7365 - val_accuracy: 0.7152\n",
            "Epoch 49/50\n",
            "703/703 [==============================] - 3s 5ms/step - loss: 0.6232 - accuracy: 0.7626 - val_loss: 0.7330 - val_accuracy: 0.7307\n",
            "Epoch 50/50\n",
            "703/703 [==============================] - 3s 5ms/step - loss: 0.6311 - accuracy: 0.7603 - val_loss: 0.7569 - val_accuracy: 0.7212\n"
          ],
          "name": "stdout"
        }
      ]
    },
    {
      "cell_type": "code",
      "metadata": {
        "id": "vOhpP7M24T9_",
        "colab": {
          "base_uri": "https://localhost:8080/",
          "height": 0
        },
        "outputId": "ac5e0dd8-f61f-447c-dae9-8968c1c50616"
      },
      "source": [
        "results = model.evaluate(val_images, val_labels, batch_size=128)"
      ],
      "execution_count": 67,
      "outputs": [
        {
          "output_type": "stream",
          "text": [
            "20/20 [==============================] - 0s 4ms/step - loss: 0.7569 - accuracy: 0.7212\n"
          ],
          "name": "stdout"
        }
      ]
    },
    {
      "cell_type": "code",
      "metadata": {
        "id": "Jxhb02wLCiHy"
      },
      "source": [
        "model.load_weights(\"my_model_weights.h5\")"
      ],
      "execution_count": 127,
      "outputs": []
    },
    {
      "cell_type": "code",
      "metadata": {
        "id": "vjw94aij4T-C"
      },
      "source": [
        "# perform pruning here\n",
        "\n",
        "# get the weights \n",
        "weights = model.get_weights()\n",
        "# you can use set_weights() to set some weights to zero, e.g.,\n",
        "# some references for pruning techniques: https://arxiv.org/pdf/1810.05270v2.pdf, https://arxiv.org/pdf/2001.04062.pdf\n",
        "def prune(weight):\n",
        "  weight = tf.cast(tf.math.abs(weight) > 1e-2, weight.dtype) * weight\n",
        "  return weight\n",
        "for i in range(len(weights)):\n",
        "  weights[i] = prune(weights[i])\n",
        "model.set_weights(weights)"
      ],
      "execution_count": 128,
      "outputs": []
    },
    {
      "cell_type": "code",
      "metadata": {
        "id": "oUuNXFjV4T-E",
        "colab": {
          "base_uri": "https://localhost:8080/",
          "height": 0
        },
        "outputId": "16bd2716-608b-4352-bf42-b4616eb1ef42"
      },
      "source": [
        "# evaluate again to see how the accuracy changes\n",
        "results = model.evaluate(val_images, val_labels, batch_size=128)"
      ],
      "execution_count": 129,
      "outputs": [
        {
          "output_type": "stream",
          "text": [
            "20/20 [==============================] - 0s 4ms/step - loss: 0.7391 - accuracy: 0.7232\n"
          ],
          "name": "stdout"
        }
      ]
    },
    {
      "cell_type": "code",
      "metadata": {
        "id": "wMSKQW4k4T-G",
        "colab": {
          "base_uri": "https://localhost:8080/",
          "height": 17
        },
        "outputId": "b96e9adf-aac0-4f1e-fe31-c73ad5a77757"
      },
      "source": [
        "# you need to save the model's weights, naming it 'my_model_weights.h5'\n",
        "model.save_weights(\"my_model_weights.h5\")\n",
        "\n",
        "# running this cell will immediately download a file called 'my_model_weights.h5'\n",
        "from google.colab import files\n",
        "files.download(\"my_model_weights.h5\")"
      ],
      "execution_count": 111,
      "outputs": [
        {
          "output_type": "display_data",
          "data": {
            "application/javascript": [
              "\n",
              "    async function download(id, filename, size) {\n",
              "      if (!google.colab.kernel.accessAllowed) {\n",
              "        return;\n",
              "      }\n",
              "      const div = document.createElement('div');\n",
              "      const label = document.createElement('label');\n",
              "      label.textContent = `Downloading \"${filename}\": `;\n",
              "      div.appendChild(label);\n",
              "      const progress = document.createElement('progress');\n",
              "      progress.max = size;\n",
              "      div.appendChild(progress);\n",
              "      document.body.appendChild(div);\n",
              "\n",
              "      const buffers = [];\n",
              "      let downloaded = 0;\n",
              "\n",
              "      const channel = await google.colab.kernel.comms.open(id);\n",
              "      // Send a message to notify the kernel that we're ready.\n",
              "      channel.send({})\n",
              "\n",
              "      for await (const message of channel.messages) {\n",
              "        // Send a message to notify the kernel that we're ready.\n",
              "        channel.send({})\n",
              "        if (message.buffers) {\n",
              "          for (const buffer of message.buffers) {\n",
              "            buffers.push(buffer);\n",
              "            downloaded += buffer.byteLength;\n",
              "            progress.value = downloaded;\n",
              "          }\n",
              "        }\n",
              "      }\n",
              "      const blob = new Blob(buffers, {type: 'application/binary'});\n",
              "      const a = document.createElement('a');\n",
              "      a.href = window.URL.createObjectURL(blob);\n",
              "      a.download = filename;\n",
              "      div.appendChild(a);\n",
              "      a.click();\n",
              "      div.remove();\n",
              "    }\n",
              "  "
            ],
            "text/plain": [
              "<IPython.core.display.Javascript object>"
            ]
          },
          "metadata": {
            "tags": []
          }
        },
        {
          "output_type": "display_data",
          "data": {
            "application/javascript": [
              "download(\"download_f9192b8d-e44e-4a7d-896f-af6080d0a890\", \"my_model_weights.h5\", 2406664)"
            ],
            "text/plain": [
              "<IPython.core.display.Javascript object>"
            ]
          },
          "metadata": {
            "tags": []
          }
        }
      ]
    },
    {
      "cell_type": "code",
      "metadata": {
        "id": "MPiJ_b1S4T-I"
      },
      "source": [
        "g"
      ],
      "execution_count": null,
      "outputs": []
    }
  ]
}